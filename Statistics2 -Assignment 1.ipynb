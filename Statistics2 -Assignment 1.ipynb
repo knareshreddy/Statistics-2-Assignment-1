{
 "cells": [
  {
   "cell_type": "code",
   "execution_count": 1,
   "metadata": {},
   "outputs": [],
   "source": [
    "import pandas as pd\n",
    "import numpy as np"
   ]
  },
  {
   "cell_type": "markdown",
   "metadata": {},
   "source": [
    "# Problem Statement \n",
    "A test is conducted which is consisting of 20 MCQs (multiple choices questions) with\n",
    "every MCQ having its four options out of which only one is correct. Determine the\n",
    "probability that a person undertaking that test has answered exactly 5 questions wrong."
   ]
  },
  {
   "cell_type": "code",
   "execution_count": null,
   "metadata": {},
   "outputs": [],
   "source": [
    "n = 20, k=(n-5)= 15 ( right answers)\n",
    "\n",
    "Probability of giving a right answer (r) = 1/4\n",
    "\n",
    "Probability of giving a wrong answer = 1 - r \n",
    "                                    =1 - 1/4 = 3/4\n",
    "\n",
    "\n",
    "P (5 out of 20 answers incorrect) = C (20, 5) * (1/4)^15 * (3/4)^5\n",
    "\n",
    "= (20∗19∗18∗17∗16)/(5∗4∗3∗2∗1) * (1/4)^15 * (3/4)^5\n",
    "\n",
    "=  ~ 0.0000034 "
   ]
  },
  {
   "cell_type": "code",
   "execution_count": null,
   "metadata": {},
   "outputs": [],
   "source": []
  }
 ],
 "metadata": {
  "kernelspec": {
   "display_name": "Python 3",
   "language": "python",
   "name": "python3"
  },
  "language_info": {
   "codemirror_mode": {
    "name": "ipython",
    "version": 3
   },
   "file_extension": ".py",
   "mimetype": "text/x-python",
   "name": "python",
   "nbconvert_exporter": "python",
   "pygments_lexer": "ipython3",
   "version": "3.6.4"
  }
 },
 "nbformat": 4,
 "nbformat_minor": 2
}
